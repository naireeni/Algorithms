{
 "cells": [
  {
   "cell_type": "code",
   "execution_count": null,
   "metadata": {},
   "outputs": [],
   "source": [
    "# def getManhattan(xList,yList):\n",
    "\n",
    "# return float(xList[0]-xList[1]) + abs(yList[0]-yList[1])\n"
   ]
  },
  {
   "cell_type": "code",
   "execution_count": null,
   "metadata": {},
   "outputs": [],
   "source": [
    "#manhatten distance, a=previous, b=current\n",
    "def recon_path(a,b):\n",
    "    totalpath= abs(a[0]-b[0])+abs(a[1]-b[1])\n",
    "    "
   ]
  },
  {
   "cell_type": "code",
   "execution_count": 4,
   "metadata": {},
   "outputs": [],
   "source": [
    "class node():\n",
    "    def __init__(self,parent=None,position=None):\n",
    "        self.parent=parent\n",
    "        self.position=position\n",
    "        self.g=0\n",
    "        self.h=0\n",
    "        self.f=0\n",
    "#     def children():\n",
    "#         pass\n",
    "#         return\n",
    "    def __eq__(self,other):\n",
    "        return(self.position==other.position)\n",
    "    \n",
    "        \n",
    "def get children(node):\n",
    "    \n",
    "        "
   ]
  },
  {
   "cell_type": "code",
   "execution_count": 12,
   "metadata": {},
   "outputs": [
    {
     "ename": "SyntaxError",
     "evalue": "invalid syntax (<ipython-input-12-6871e23bccea>, line 31)",
     "output_type": "error",
     "traceback": [
      "\u001b[0;36m  File \u001b[0;32m\"<ipython-input-12-6871e23bccea>\"\u001b[0;36m, line \u001b[0;32m31\u001b[0m\n\u001b[0;31m    for pos in [(0,-1),(0,1),(-1,0),(1,0),(1,1),(-1,-1),(-1,1),(1,-1)]\u001b[0m\n\u001b[0m                                                                      ^\u001b[0m\n\u001b[0;31mSyntaxError\u001b[0m\u001b[0;31m:\u001b[0m invalid syntax\n"
     ]
    }
   ],
   "source": [
    "def astarpath(start,end,maze):\n",
    "    openlist=[]\n",
    "    closelist=[]\n",
    "    # last bit of the node is f value\n",
    "    start=node(None,start)\n",
    "    goal=node(None,end)\n",
    "    \n",
    "   \n",
    "    openlist.append(start)\n",
    "    # print(openlist)\n",
    "    while len(openlist)>0:\n",
    "        current=openlis[0]\n",
    "        currentindex=0\n",
    "        for index,node in enumerate(openlist):\n",
    "            if node.f<current.f:\n",
    "                current=node# current node not initialised\n",
    "                currentindex=index\n",
    "        openlist.pop(currentindex)\n",
    "        closedlist.append(current)\n",
    "\n",
    "        if current == goal:\n",
    "            path=[]\n",
    "            current_node=current\n",
    "            while current_node is not None:\n",
    "                path.append(current_node.position)\n",
    "                current_node=current_node.parent\n",
    "            return path[::-1]#reversed\n",
    "  \n",
    "            \n",
    "        children=[]\n",
    "        for pos in [(0,-1),(0,1),(-1,0),(1,0),(1,1),(-1,-1),(-1,1),(1,-1)]\n",
    "            nodepos=current.position[0]+pos[0],current.position[1]+pos[1]\n",
    "            \n",
    "            if nodepos[0]>(len(maze)-1)or nodepos[0]<0 if nodepos[1]>(len(maze[len(maze)-1])-1)or nodepos[1]<0:\n",
    "                continue\n",
    "            if maze[nodepos[0]][nodepos[1]]!=0:\n",
    "                continue\n",
    "            newnode=node(current,nodepos)\n",
    "            children.append(newnode)\n",
    "        \n",
    "        for child in childs:\n",
    "            if child in closedlist:\n",
    "                continue\n",
    "            child.g=current.g+1\n",
    "            child.h=recon_path(child.position,goal.position)\n",
    "            child.f=child.g+child.h\n",
    "\n",
    "            for node in openlist:\n",
    "                if child==node:\n",
    "                    if child.g >node.g:\n",
    "                        continue\n",
    "            openlist.append(child)\n",
    "\n",
    "            \n",
    "        \n",
    "    \n",
    "    \n",
    "    \n",
    "    \n",
    "    \n",
    "    "
   ]
  },
  {
   "cell_type": "code",
   "execution_count": null,
   "metadata": {},
   "outputs": [],
   "source": []
  }
 ],
 "metadata": {
  "kernelspec": {
   "display_name": "Pfds",
   "language": "python",
   "name": "pfds"
  },
  "language_info": {
   "codemirror_mode": {
    "name": "ipython",
    "version": 3
   },
   "file_extension": ".py",
   "mimetype": "text/x-python",
   "name": "python",
   "nbconvert_exporter": "python",
   "pygments_lexer": "ipython3",
   "version": "3.6.5"
  }
 },
 "nbformat": 4,
 "nbformat_minor": 2
}
